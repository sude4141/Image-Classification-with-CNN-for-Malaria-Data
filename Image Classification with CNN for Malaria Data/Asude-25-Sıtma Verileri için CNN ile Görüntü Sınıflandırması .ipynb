{
 "cells": [
  {
   "cell_type": "markdown",
   "id": "a97f1495-c0af-4678-a745-b5463793553e",
   "metadata": {},
   "source": [
    "# Image Classification with CNN for Malaria Data - Sıtma Verileri için CNN ile Görüntü Sınıflandırma"
   ]
  },
  {
   "cell_type": "raw",
   "id": "4e9f12a2-3159-477a-a350-a70b45de07c3",
   "metadata": {},
   "source": [
    "Bu proje, sıtma verileri üzerinde Konvolüsyonel Sinir Ağı (CNN) kullanarak görüntü sınıflandırması yapmayı amaçlamaktadır. Proje, enfekte ve enfekte olmayan hücrelerin görüntülerini ayırt edebilmek için derin öğrenme tekniklerinden yararlanacaktır.\n",
    "\n",
    "Görsel veriler, sıtma parazitlerinin tespiti ve tanısı için önemli bir kaynak oluşturmaktadır. Bu nedenle, modelin doğruluğunu artırmak ve otomatik tanı süreçlerini desteklemek için CNN mimarisi geliştirilecektir. Proje, veri ön işleme, model eğitimi ve değerlendirme aşamalarını içerecek şekilde yapılandırılacaktır.\n",
    "\n",
    "Sonuç olarak, bu çalışmanın, sıtma hastalığını daha etkili bir şekilde teşhis etmeye yardımcı olması ve sağlık profesyonellerine destek sağlaması beklenmektedir."
   ]
  },
  {
   "cell_type": "markdown",
   "id": "114971f6-9137-4c9a-b4aa-be144a3456f3",
   "metadata": {},
   "source": [
    "<img src='11.webp'>"
   ]
  },
  {
   "cell_type": "code",
   "execution_count": 1,
   "id": "4d51717c",
   "metadata": {},
   "outputs": [],
   "source": [
    "import cv2  # Bilgisayarla görme kütüphanesi\n",
    "import pandas as pd  # Veri analizi için pandas kütüphanesi\n",
    "import numpy as np  # Sayısal hesaplamalar için numpy kütüphanesi\n",
    "import matplotlib.pyplot as plt  # Grafik çizimi için matplotlib kütüphanesi\n",
    "from sklearn.model_selection import train_test_split  # Eğitim ve test setlerine ayırmak için sklearn kütüphanesi\n",
    "import os  # İşletim sistemi ile etkileşim için os kütüphanesi"
   ]
  },
  {
   "cell_type": "code",
   "execution_count": 2,
   "id": "c7240bc3",
   "metadata": {},
   "outputs": [],
   "source": [
    "labels=['parasitized','uninfected'] #resimleri etiketledik\n",
    "img_path='cell_images/'"
   ]
  },
  {
   "cell_type": "raw",
   "id": "c8cecd34-0a94-473c-8d48-8cede0de4581",
   "metadata": {},
   "source": [
    "labels: Bu liste, iki farklı etiket içerir.\n",
    "'parasitized': Parazitli hücreleri temsil eder.\n",
    "'uninfected': Enfekte olmamış (sağlıklı) hücreleri temsil eder.\n",
    "\n",
    "img_path: Bu değişken, hücre resimlerinin bulunduğu dizinin yolunu temsil eder.\n",
    "'cell_images/': Resimlerin saklandığı klasörün adıdır. Bu yol, programın resimleri yüklemek için hangi dizine bakacağını belirtir."
   ]
  },
  {
   "cell_type": "code",
   "execution_count": 3,
   "id": "10519127",
   "metadata": {},
   "outputs": [],
   "source": [
    "img_list = []  # Resim dosyalarının yollarını depolamak için boş bir liste oluşturuyoruz.\n",
    "label_list = []  # Her resmin etiketini depolamak için boş bir liste oluşturuyoruz.\n",
    "\n",
    "# img_list: Resim dosyalarının tam yollarını tutmak için kullanılacak.\n",
    "# label_list: Her bir resimle ilişkili etiketleri tutmak için kullanılacak.\n",
    "\n",
    "for label in labels:  #Bu döngü, daha önce tanımlanan labels listesindeki her bir etiketi (yani 'parasitized' ve 'uninfected') sırayla işler.\n",
    "    for img_file in os.listdir(img_path+label):  #os.listdir(img_path + label): Belirli bir etiket klasöründeki (örneğin, 'cell_images/parasitized') resim dosyalarının isimlerini listeleyen bir işlevdir.Bu döngü, her etiket için o etikete ait tüm resim dosyalarını işler.\n",
    "        #os.listdir(img_path + label) ifadesi, belirtilen etiketin klasöründeki dosyaları alır.\n",
    "        \n",
    "        img_list.append(img_path+label+'/'+img_file) #Bu satır, mevcut döngüdeki resim dosyasının tam yolunu oluşturur ve img_list listesine ekler.\n",
    "#Örneğin, 'cell_images/parasitized/image1.png' gibi bir yol oluşturulur.\n",
    "        \n",
    "        label_list.append(label) #Bu satır, mevcut döngüdeki etiketin adını (label) label_list listesine ekler.\n",
    "#Böylece, her bir resim dosyası için uygun etiket kaydedilmiş olur."
   ]
  },
  {
   "cell_type": "raw",
   "id": "0bb0d98c-e093-4c3f-9280-c0b564d01d9a",
   "metadata": {},
   "source": [
    "Çalışma Süreci\n",
    "\n",
    "İlk Dönüş:\n",
    "Dış döngü 'parasitized' etiketini alır.\n",
    "İç döngü, cell_images/parasitized klasöründeki tüm resim dosyalarını işler ve bunların yollarını img_list'e ekler. Ayrıca, her bir resim için 'parasitized' etiketini label_list'e ekler.\n",
    "\n",
    "İkinci Dönüş:\n",
    "Dış döngü şimdi 'uninfected' etiketini alır.\n",
    "İç döngü, cell_images/uninfected klasöründeki tüm resim dosyalarını işler ve yollarını img_list'e ekler. Her bir resim için 'uninfected' etiketini label_list'e ekler.\n",
    "\n",
    "Sonuç\n",
    "Sonuç olarak, bu döngüler iki kez çalışır, her biri farklı etiketler için resim dosyalarını toplar. Her etiket için ilgili resim dosyaları ve etiketler listelere eklenir."
   ]
  },
  {
   "cell_type": "code",
   "execution_count": 4,
   "id": "0dd2fd58",
   "metadata": {},
   "outputs": [],
   "source": [
    "df=pd.DataFrame({'img':img_list,'label':label_list})\n",
    "#img_list ve label_list'i kullanarak yeni bir pandas DataFrame (df) oluşturur. Bu DataFrame, iki sütun içerir:\n",
    "# img: Resim dosyalarının yollarını içerir.\n",
    "# label: Her resimle ilişkili etiketleri içerir.\n",
    "#daha sonra bu DataFrame üzerinden makine öğrenimi işlemleri yapabilir veya verileri görselleştirebiliriz."
   ]
  },
  {
   "cell_type": "code",
   "execution_count": 5,
   "id": "9c9ecd7d",
   "metadata": {},
   "outputs": [
    {
     "data": {
      "text/html": [
       "<div>\n",
       "<style scoped>\n",
       "    .dataframe tbody tr th:only-of-type {\n",
       "        vertical-align: middle;\n",
       "    }\n",
       "\n",
       "    .dataframe tbody tr th {\n",
       "        vertical-align: top;\n",
       "    }\n",
       "\n",
       "    .dataframe thead th {\n",
       "        text-align: right;\n",
       "    }\n",
       "</style>\n",
       "<table border=\"1\" class=\"dataframe\">\n",
       "  <thead>\n",
       "    <tr style=\"text-align: right;\">\n",
       "      <th></th>\n",
       "      <th>img</th>\n",
       "      <th>label</th>\n",
       "    </tr>\n",
       "  </thead>\n",
       "  <tbody>\n",
       "    <tr>\n",
       "      <th>0</th>\n",
       "      <td>cell_images/parasitized/C100P61ThinF_IMG_20150...</td>\n",
       "      <td>parasitized</td>\n",
       "    </tr>\n",
       "    <tr>\n",
       "      <th>1</th>\n",
       "      <td>cell_images/parasitized/C100P61ThinF_IMG_20150...</td>\n",
       "      <td>parasitized</td>\n",
       "    </tr>\n",
       "    <tr>\n",
       "      <th>2</th>\n",
       "      <td>cell_images/parasitized/C100P61ThinF_IMG_20150...</td>\n",
       "      <td>parasitized</td>\n",
       "    </tr>\n",
       "    <tr>\n",
       "      <th>3</th>\n",
       "      <td>cell_images/parasitized/C100P61ThinF_IMG_20150...</td>\n",
       "      <td>parasitized</td>\n",
       "    </tr>\n",
       "    <tr>\n",
       "      <th>4</th>\n",
       "      <td>cell_images/parasitized/C100P61ThinF_IMG_20150...</td>\n",
       "      <td>parasitized</td>\n",
       "    </tr>\n",
       "  </tbody>\n",
       "</table>\n",
       "</div>"
      ],
      "text/plain": [
       "                                                 img        label\n",
       "0  cell_images/parasitized/C100P61ThinF_IMG_20150...  parasitized\n",
       "1  cell_images/parasitized/C100P61ThinF_IMG_20150...  parasitized\n",
       "2  cell_images/parasitized/C100P61ThinF_IMG_20150...  parasitized\n",
       "3  cell_images/parasitized/C100P61ThinF_IMG_20150...  parasitized\n",
       "4  cell_images/parasitized/C100P61ThinF_IMG_20150...  parasitized"
      ]
     },
     "execution_count": 5,
     "metadata": {},
     "output_type": "execute_result"
    }
   ],
   "source": [
    "df.head()"
   ]
  },
  {
   "cell_type": "code",
   "execution_count": 6,
   "id": "80687ab2",
   "metadata": {},
   "outputs": [
    {
     "name": "stdout",
     "output_type": "stream",
     "text": [
      "<class 'pandas.core.frame.DataFrame'>\n",
      "RangeIndex: 16162 entries, 0 to 16161\n",
      "Data columns (total 2 columns):\n",
      " #   Column  Non-Null Count  Dtype \n",
      "---  ------  --------------  ----- \n",
      " 0   img     16162 non-null  object\n",
      " 1   label   16162 non-null  object\n",
      "dtypes: object(2)\n",
      "memory usage: 252.7+ KB\n"
     ]
    }
   ],
   "source": [
    "df.info()"
   ]
  },
  {
   "cell_type": "code",
   "execution_count": 7,
   "id": "3daf03ff",
   "metadata": {},
   "outputs": [
    {
     "data": {
      "text/plain": [
       "parasitized    8081\n",
       "uninfected     8081\n",
       "Name: label, dtype: int64"
      ]
     },
     "execution_count": 7,
     "metadata": {},
     "output_type": "execute_result"
    }
   ],
   "source": [
    "df[\"label\"].value_counts()"
   ]
  },
  {
   "cell_type": "code",
   "execution_count": 8,
   "id": "e39a2488",
   "metadata": {},
   "outputs": [],
   "source": [
    "d={'uninfected':0, 'parasitized':1}\n",
    "\n",
    "# Bu sözlük, etiketlerin sayısal değerlerle eşleştirilmesi için kullanılır. Örneğin, bir makine öğrenimi modelinde, kategorik etiketleri sayısal değerlere dönüştürmek genellikle gereklidir. Bu sayede, model bu değerleri kullanarak veriler üzerinde işlem yapabilir.\n",
    "\n",
    "# Örneğin:\n",
    "\n",
    "# 'uninfected' etiketine sahip bir resim, 0 olarak kodlanır.\n",
    "# 'parasitized' etiketine sahip bir resim, 1 olarak kodlanır.\n",
    "# Bu tür bir kodlama, modelin sınıflandırma işlemi yaparken daha iyi performans göstermesine yardımcı olur."
   ]
  },
  {
   "cell_type": "code",
   "execution_count": 9,
   "id": "57d7fde6",
   "metadata": {},
   "outputs": [],
   "source": [
    "df['class']=df['label'].map(d)\n",
    "\n",
    "#df['class']: Bu ifade, df DataFrame'ine yeni bir sütun ekler. Bu yeni sütunun adı 'class' olarak belirlenmiştir.\n",
    "# df['label']: Bu, mevcut df DataFrame'indeki 'label' sütununu temsil eder. Bu sütun, her resme karşılık gelen etiketleri içerir (örneğin, 'uninfected' ve 'parasitized').\n",
    "# map(d): map() fonksiyonu, df['label'] sütunundaki her bir değeri, d sözlüğündeki karşılık gelen değeri ile eşleştirir.\n",
    "# Örneğin, 'uninfected' etiketine sahip olan bir değer, d sözlüğünde 0 ile eşleştirilecektir.\n",
    "# 'parasitized' etiketine sahip olan bir değer ise 1 ile eşleştirilecektir."
   ]
  },
  {
   "cell_type": "code",
   "execution_count": 10,
   "id": "c1de0ead",
   "metadata": {},
   "outputs": [
    {
     "data": {
      "text/html": [
       "<div>\n",
       "<style scoped>\n",
       "    .dataframe tbody tr th:only-of-type {\n",
       "        vertical-align: middle;\n",
       "    }\n",
       "\n",
       "    .dataframe tbody tr th {\n",
       "        vertical-align: top;\n",
       "    }\n",
       "\n",
       "    .dataframe thead th {\n",
       "        text-align: right;\n",
       "    }\n",
       "</style>\n",
       "<table border=\"1\" class=\"dataframe\">\n",
       "  <thead>\n",
       "    <tr style=\"text-align: right;\">\n",
       "      <th></th>\n",
       "      <th>img</th>\n",
       "      <th>label</th>\n",
       "      <th>class</th>\n",
       "    </tr>\n",
       "  </thead>\n",
       "  <tbody>\n",
       "    <tr>\n",
       "      <th>0</th>\n",
       "      <td>cell_images/parasitized/C100P61ThinF_IMG_20150...</td>\n",
       "      <td>parasitized</td>\n",
       "      <td>1</td>\n",
       "    </tr>\n",
       "    <tr>\n",
       "      <th>1</th>\n",
       "      <td>cell_images/parasitized/C100P61ThinF_IMG_20150...</td>\n",
       "      <td>parasitized</td>\n",
       "      <td>1</td>\n",
       "    </tr>\n",
       "    <tr>\n",
       "      <th>2</th>\n",
       "      <td>cell_images/parasitized/C100P61ThinF_IMG_20150...</td>\n",
       "      <td>parasitized</td>\n",
       "      <td>1</td>\n",
       "    </tr>\n",
       "    <tr>\n",
       "      <th>3</th>\n",
       "      <td>cell_images/parasitized/C100P61ThinF_IMG_20150...</td>\n",
       "      <td>parasitized</td>\n",
       "      <td>1</td>\n",
       "    </tr>\n",
       "    <tr>\n",
       "      <th>4</th>\n",
       "      <td>cell_images/parasitized/C100P61ThinF_IMG_20150...</td>\n",
       "      <td>parasitized</td>\n",
       "      <td>1</td>\n",
       "    </tr>\n",
       "  </tbody>\n",
       "</table>\n",
       "</div>"
      ],
      "text/plain": [
       "                                                 img        label  class\n",
       "0  cell_images/parasitized/C100P61ThinF_IMG_20150...  parasitized      1\n",
       "1  cell_images/parasitized/C100P61ThinF_IMG_20150...  parasitized      1\n",
       "2  cell_images/parasitized/C100P61ThinF_IMG_20150...  parasitized      1\n",
       "3  cell_images/parasitized/C100P61ThinF_IMG_20150...  parasitized      1\n",
       "4  cell_images/parasitized/C100P61ThinF_IMG_20150...  parasitized      1"
      ]
     },
     "execution_count": 10,
     "metadata": {},
     "output_type": "execute_result"
    }
   ],
   "source": [
    "df.head()"
   ]
  },
  {
   "cell_type": "code",
   "execution_count": 11,
   "id": "71fdf6f6",
   "metadata": {},
   "outputs": [
    {
     "data": {
      "text/html": [
       "<div>\n",
       "<style scoped>\n",
       "    .dataframe tbody tr th:only-of-type {\n",
       "        vertical-align: middle;\n",
       "    }\n",
       "\n",
       "    .dataframe tbody tr th {\n",
       "        vertical-align: top;\n",
       "    }\n",
       "\n",
       "    .dataframe thead th {\n",
       "        text-align: right;\n",
       "    }\n",
       "</style>\n",
       "<table border=\"1\" class=\"dataframe\">\n",
       "  <thead>\n",
       "    <tr style=\"text-align: right;\">\n",
       "      <th></th>\n",
       "      <th>img</th>\n",
       "      <th>label</th>\n",
       "      <th>class</th>\n",
       "    </tr>\n",
       "  </thead>\n",
       "  <tbody>\n",
       "    <tr>\n",
       "      <th>16157</th>\n",
       "      <td>cell_images/uninfected/C241NThinF_IMG_20151207...</td>\n",
       "      <td>uninfected</td>\n",
       "      <td>0</td>\n",
       "    </tr>\n",
       "    <tr>\n",
       "      <th>16158</th>\n",
       "      <td>cell_images/uninfected/C241NThinF_IMG_20151207...</td>\n",
       "      <td>uninfected</td>\n",
       "      <td>0</td>\n",
       "    </tr>\n",
       "    <tr>\n",
       "      <th>16159</th>\n",
       "      <td>cell_images/uninfected/C241NThinF_IMG_20151207...</td>\n",
       "      <td>uninfected</td>\n",
       "      <td>0</td>\n",
       "    </tr>\n",
       "    <tr>\n",
       "      <th>16160</th>\n",
       "      <td>cell_images/uninfected/C241NThinF_IMG_20151207...</td>\n",
       "      <td>uninfected</td>\n",
       "      <td>0</td>\n",
       "    </tr>\n",
       "    <tr>\n",
       "      <th>16161</th>\n",
       "      <td>cell_images/uninfected/C241NThinF_IMG_20151207...</td>\n",
       "      <td>uninfected</td>\n",
       "      <td>0</td>\n",
       "    </tr>\n",
       "  </tbody>\n",
       "</table>\n",
       "</div>"
      ],
      "text/plain": [
       "                                                     img       label  class\n",
       "16157  cell_images/uninfected/C241NThinF_IMG_20151207...  uninfected      0\n",
       "16158  cell_images/uninfected/C241NThinF_IMG_20151207...  uninfected      0\n",
       "16159  cell_images/uninfected/C241NThinF_IMG_20151207...  uninfected      0\n",
       "16160  cell_images/uninfected/C241NThinF_IMG_20151207...  uninfected      0\n",
       "16161  cell_images/uninfected/C241NThinF_IMG_20151207...  uninfected      0"
      ]
     },
     "execution_count": 11,
     "metadata": {},
     "output_type": "execute_result"
    }
   ],
   "source": [
    "df.tail()"
   ]
  },
  {
   "cell_type": "code",
   "execution_count": 12,
   "id": "1c2648f4",
   "metadata": {},
   "outputs": [
    {
     "data": {
      "text/plain": [
       "img      0\n",
       "label    0\n",
       "class    0\n",
       "dtype: int64"
      ]
     },
     "execution_count": 12,
     "metadata": {},
     "output_type": "execute_result"
    }
   ],
   "source": [
    "df.isnull().sum()"
   ]
  },
  {
   "cell_type": "code",
   "execution_count": 13,
   "id": "9737e66f",
   "metadata": {},
   "outputs": [],
   "source": [
    "x=[] #x: Bu liste, işlenmiş resim verilerini depolamak için kullanılır.\n",
    "for img in df['img']:  #pil diye bi paket var,onlada okuyabilirsin. Bu döngü, df DataFrame'indeki 'img' sütunundaki her bir resim yolu üzerinde iterasyon yapar.\n",
    "#Her img, resim dosyasının tam yolunu temsil eder.\n",
    "    \n",
    "    img=cv2.imread(str(img))\n",
    "    img=cv2.resize(img,(128,128)) #boyutunu 128 x 128 pixel yaptik\n",
    "    img=img/255.0 #normalize ettik\n",
    "    x.append(img)"
   ]
  },
  {
   "cell_type": "raw",
   "id": "d7abf228-1912-4a30-925c-576f53a6f244",
   "metadata": {},
   "source": [
    "cv2.imread(): OpenCV kütüphanesinin bir fonksiyonudur. Belirtilen dosya yolundaki resmi okur ve bir matris (dizi) olarak döner.\n",
    "str(img): Resim yolunu string formatına çevirir (genellikle bu gereklidir, ancak img zaten bir string ise bu işlem gereksizdir).\n",
    "\n",
    "cv2.resize(): Okunan resmi belirtilen boyutlara (128x128 piksel) yeniden boyutlandırır. Bu, tüm resimlerin aynı boyutta olmasını sağlamak için önemlidir, özellikle makine öğrenimi modellerinde.\n",
    "\n",
    "Resim verileri genellikle 0 ile 255 arasında piksel değerleri içerir. Bu satır, piksel değerlerini 0 ile 1 arasına normalize eder. Böylece modelin öğrenmesi daha etkin hale gelir.\n",
    "\n",
    "İşlenmiş (boyutlandırılmış ve normalize edilmiş) resmi x listesine ekler.\n",
    "\n",
    "Sonuç\n",
    "Bu kod parçası, df DataFrame'indeki resim dosyalarını okuyup, boyutlandırıp normalize ederek x listesine ekler. Bu işlem, makine öğrenimi veya derin öğrenme uygulamaları için verilerin hazırlanmasında yaygın bir tekniktir."
   ]
  },
  {
   "cell_type": "code",
   "execution_count": 14,
   "id": "ece4b73f",
   "metadata": {},
   "outputs": [],
   "source": [
    "x=np.array(x) \n",
    "#np.array(): NumPy kütüphanesinin bir fonksiyonudur. Bu fonksiyon, verilen listeyi (bu durumda x listesi) bir NumPy dizisine (array) dönüştürür.\n",
    "\n",
    "#Neden Kullanılır?\n",
    "# Veri Yapısı: NumPy dizileri, Python listelerine göre daha verimli bellek kullanımı ve daha hızlı işlem özelliğine sahiptir. Bu, özellikle büyük veri setleriyle çalışırken önemlidir.\n",
    "# Matematiksel İşlemler: NumPy dizileri, çok boyutlu matrislerle çalışmayı kolaylaştırır. Dizi üzerinde matematiksel işlemler yapmak, liste üzerinde aynı işlemleri yapmaktan çok daha hızlı ve kolaydır.\n",
    "# Uyumlu Format: Makine öğrenimi ve derin öğrenme modelleri genellikle NumPy dizileri veya tensörler (TensorFlow veya PyTorch gibi kütüphaneler kullanıyorsanız) ile beslenir. Bu nedenle, verilerinizi bu formata dönüştürmek, modelin eğitimi ve değerlendirmesi için gereklidir."
   ]
  },
  {
   "cell_type": "code",
   "execution_count": 15,
   "id": "78c1e019",
   "metadata": {},
   "outputs": [],
   "source": [
    "y=df['class']\n",
    "#y: Bu değişken, df DataFrame'indeki 'class' sütununu temsil eder. Bu sütun, her resmin sayısal sınıf etiketlerini içerir (örneğin, 0 veya 1).\n",
    "#df['class']: Bu ifade, pandas DataFrame'indeki 'class' sütununu seçer. Daha önce oluşturulan bu sütun, her resmin etiketlerini sayısal formatta tutar."
   ]
  },
  {
   "cell_type": "code",
   "execution_count": 17,
   "id": "562dee06",
   "metadata": {},
   "outputs": [],
   "source": [
    "#pip install tensorflow \n",
    "#TensorFlow kütüphanesini Python ortamınıza yüklemek için kullanılır. TensorFlow, makine öğrenimi ve derin öğrenme için yaygın olarak kullanılan bir açık kaynak kütüphanesidir."
   ]
  },
  {
   "cell_type": "code",
   "execution_count": 18,
   "id": "1e3f4cec",
   "metadata": {},
   "outputs": [
    {
     "name": "stdout",
     "output_type": "stream",
     "text": [
      "16162\n",
      "16162\n"
     ]
    }
   ],
   "source": [
    "print(len(x))\n",
    "print(len(y))"
   ]
  },
  {
   "cell_type": "code",
   "execution_count": 19,
   "id": "ce055866",
   "metadata": {},
   "outputs": [],
   "source": [
    "x_train,x_test,y_train,y_test=train_test_split(x,y,test_size=.20,random_state=42)"
   ]
  },
  {
   "cell_type": "raw",
   "id": "cd5e9e72-8ce2-4b9e-b8b9-dc46289b00c9",
   "metadata": {},
   "source": [
    "train_test_split: Bu, scikit-learn kütüphanesinin bir fonksiyonudur. Veri setini eğitim ve test setlerine bölmek için kullanılır.\n",
    "x: Giriş verilerini içeren NumPy dizisi. Bu, daha önce elde edilen ve işlenmiş resim verilerini temsil eder.\n",
    "y: Hedef değerleri içeren NumPy dizisi. Bu, daha önce oluşturulmuş ve sayısal formatta etiketleri içeren bir dizidir.\n",
    "test_size=0.20: Bu parametre, veri setinin %20'sinin test seti olarak ayrılacağını belirtir. Geri kalan %80'i eğitim seti olarak kullanılacaktır.\n",
    "random_state=42: Bu parametre, rastgelelik kontrolü sağlar. Aynı random_state değeri kullanıldığında, veri setinin bölünmesi her seferinde aynı sonuçları verir. Bu, sonuçların tekrarlanabilir olmasını sağlar.\n",
    "\n",
    "Bu kod satırı, x ve y dizilerini eğitim ve test setlerine ayırır:\n",
    "\n",
    "x_train: Eğitim setindeki giriş verileri.\n",
    "x_test: Test setindeki giriş verileri.\n",
    "y_train: Eğitim setindeki hedef değerler.\n",
    "y_test: Test setindeki hedef değerler."
   ]
  },
  {
   "cell_type": "code",
   "execution_count": 20,
   "id": "dbc8ecde",
   "metadata": {},
   "outputs": [],
   "source": [
    "from keras.models import Sequential\n",
    "from keras.layers import Conv2D, Dense, Flatten, Input, MaxPooling2D, Dropout,BatchNormalization, Reshape\n",
    "\n",
    "#Verdiğiniz kod, Keras kütüphanesinden çeşitli katmanları içe aktarmak için kullanılır. Keras, derin öğrenme modelleri oluşturmak için yüksek seviyeli bir API'dir ve TensorFlow ile entegre çalışır.\n",
    "# Sequential: Bu, katmanları ardışık olarak ekleyerek model oluşturmak için kullanılan bir model türüdür. Her katman, bir önceki katmanın çıktısını alır.\n",
    "# Conv2D: İki boyutlu evrişim katmanı. Görüntü verileriyle çalışırken yaygın olarak kullanılır. Resimlerden uzamsal özellikleri çıkarmak için kullanılır.\n",
    "# Dense: Tam bağlantılı katman. Her bir nöron, bir önceki katmandaki tüm nöronlarla bağlantılıdır. Genellikle modelin son katmanlarında kullanılır.\n",
    "# Flatten: Çok boyutlu bir girişi tek boyutlu bir diziye dönüştürür. Genellikle evrişim katmanlarının çıktısını tam bağlantılı katmanlara iletmek için kullanılır.\n",
    "# Input: Modelin giriş katmanını tanımlar. Giriş boyutunu belirlemek için kullanılır.\n",
    "# MaxPooling2D: İki boyutlu maksimum havuzlama katmanı. Görüntü boyutunu azaltmak ve özellikleri özetlemek için kullanılır. Genellikle evrişim katmanlarının ardından gelir.\n",
    "# Dropout: Aşırı öğrenmeyi önlemek için kullanılan bir katmandır. Eğitim sırasında belirli bir oranda nöronları rastgele kapatır.\n",
    "# BatchNormalization: Eğitim sırasında katman girişlerini normalize eder. Bu, öğrenme sürecini hızlandırabilir ve daha stabil hale getirebilir.\n",
    "# Reshape: Girdi verisinin biçimini değiştirmek için kullanılır. Genellikle modelin katmanları arasında veri formatını ayarlamak için kullanılır."
   ]
  },
  {
   "cell_type": "code",
   "execution_count": 23,
   "id": "11585173",
   "metadata": {},
   "outputs": [],
   "source": [
    "model = Sequential()  # Sıralı bir model oluşturur.\n",
    "\n",
    "model.add(Input(shape=(128, 128, 3)))  # Giriş katmanı; 128x128 piksel ve 3 renk kanalı (RGB) olan görüntüler. 3 ekledik çünkü 3 tane rgb renk modeli vardı yani renkli çalışıyoruz.\n",
    "\n",
    "model.add(Conv2D(32, kernel_size=(3, 3), activation='relu'))  # 32 filtreli evrişim katmanı; özellikleri çıkarmak için.\n",
    "model.add(MaxPooling2D(pool_size=(2, 2)))  # Havuzlama katmanı; görüntü boyutunu azaltır.\n",
    "\n",
    "model.add(Conv2D(64, kernel_size=(3, 3), activation='relu'))  # 64 filtreli evrişim katmanı; daha karmaşık özellikleri öğrenir.\n",
    "model.add(MaxPooling2D(pool_size=(2, 2)))  # Bir havuzlama katmanı daha; görüntü boyutunu daha da azaltır.\n",
    "\n",
    "model.add(Flatten())  # Çok boyutlu çıktıyı tek boyutlu bir diziye dönüştürür; tam bağlantılı katmanlara geçiş için.\n",
    "\n",
    "model.add(Dense(128))  # 128 nöronlu tam bağlantılı katman; öğrenilen özellikleri birleştirir.\n",
    "\n",
    "model.add(Dense(9, activation='softmax'))  # 9 nöronlu çıkış katmanı; çok sınıflı sınıflandırma için softmax aktivasyonu kullanır.  2 fakli cevap classification yapıyoruz çünkü.,cancer veya noncancer olacak.\n",
    "#softmax aktivasyon fonksiyonu, çok sınıflı sınıflandırma problemleri için kullanılır. Burada, 9 farklı sınıf (örneğin, kanserli ve kanserli olmayan) arasında olasılık dağılımı sağlar.\n",
    "model.compile(optimizer='adam', loss='sparse_categorical_crossentropy', metrics=['accuracy'])  # Modelin eğitim sürecini yapılandırır."
   ]
  },
  {
   "cell_type": "code",
   "execution_count": 24,
   "id": "06e5c731",
   "metadata": {
    "scrolled": true
   },
   "outputs": [
    {
     "name": "stdout",
     "output_type": "stream",
     "text": [
      "Epoch 1/20\n",
      "405/405 [==============================] - 156s 383ms/step - loss: 0.5754 - accuracy: 0.7561 - val_loss: 0.3199 - val_accuracy: 0.8921\n",
      "Epoch 2/20\n",
      "405/405 [==============================] - 152s 375ms/step - loss: 0.3668 - accuracy: 0.8635 - val_loss: 0.3620 - val_accuracy: 0.8549\n",
      "Epoch 3/20\n",
      "405/405 [==============================] - 151s 374ms/step - loss: 0.2729 - accuracy: 0.9104 - val_loss: 0.4489 - val_accuracy: 0.9335\n",
      "Epoch 4/20\n",
      "405/405 [==============================] - 150s 371ms/step - loss: 0.2653 - accuracy: 0.9140 - val_loss: 0.5043 - val_accuracy: 0.7476\n",
      "Epoch 5/20\n",
      "405/405 [==============================] - 151s 373ms/step - loss: 0.2352 - accuracy: 0.9262 - val_loss: 0.4076 - val_accuracy: 0.9187\n",
      "Epoch 6/20\n",
      "405/405 [==============================] - 155s 382ms/step - loss: 0.2007 - accuracy: 0.9423 - val_loss: 0.5480 - val_accuracy: 0.7389\n",
      "Epoch 7/20\n",
      "405/405 [==============================] - 165s 408ms/step - loss: 0.1946 - accuracy: 0.9391 - val_loss: 0.3762 - val_accuracy: 0.9205\n",
      "Epoch 8/20\n",
      "405/405 [==============================] - 159s 391ms/step - loss: 0.1550 - accuracy: 0.9580 - val_loss: 0.3748 - val_accuracy: 0.9023\n",
      "Epoch 9/20\n",
      "405/405 [==============================] - 166s 411ms/step - loss: 0.0974 - accuracy: 0.9708 - val_loss: 0.4500 - val_accuracy: 0.8852\n",
      "Epoch 10/20\n",
      "405/405 [==============================] - 158s 391ms/step - loss: 0.1064 - accuracy: 0.9711 - val_loss: 0.3630 - val_accuracy: 0.9032\n",
      "Epoch 11/20\n",
      "405/405 [==============================] - 167s 413ms/step - loss: 0.0686 - accuracy: 0.9789 - val_loss: 0.4104 - val_accuracy: 0.9165\n",
      "Epoch 12/20\n",
      "405/405 [==============================] - 161s 397ms/step - loss: 0.0596 - accuracy: 0.9821 - val_loss: 0.4552 - val_accuracy: 0.9097\n",
      "Epoch 13/20\n",
      "405/405 [==============================] - 158s 391ms/step - loss: 0.0515 - accuracy: 0.9846 - val_loss: 0.4976 - val_accuracy: 0.8648\n",
      "Epoch 14/20\n",
      "405/405 [==============================] - 160s 396ms/step - loss: 0.0798 - accuracy: 0.9722 - val_loss: 0.4573 - val_accuracy: 0.9202\n",
      "Epoch 15/20\n",
      "405/405 [==============================] - 159s 392ms/step - loss: 0.0445 - accuracy: 0.9858 - val_loss: 0.5556 - val_accuracy: 0.8967\n",
      "Epoch 16/20\n",
      "405/405 [==============================] - 162s 400ms/step - loss: 0.0387 - accuracy: 0.9879 - val_loss: 0.5406 - val_accuracy: 0.9001\n",
      "Epoch 17/20\n",
      "405/405 [==============================] - 161s 396ms/step - loss: 0.0245 - accuracy: 0.9930 - val_loss: 0.7169 - val_accuracy: 0.9168\n",
      "Epoch 18/20\n",
      "405/405 [==============================] - 159s 393ms/step - loss: 0.0486 - accuracy: 0.9863 - val_loss: 0.5228 - val_accuracy: 0.9044\n",
      "Epoch 19/20\n",
      "405/405 [==============================] - 159s 393ms/step - loss: 0.0261 - accuracy: 0.9928 - val_loss: 0.5909 - val_accuracy: 0.9063\n",
      "Epoch 20/20\n",
      "405/405 [==============================] - 157s 387ms/step - loss: 0.0053 - accuracy: 0.9988 - val_loss: 0.6945 - val_accuracy: 0.9137\n"
     ]
    }
   ],
   "source": [
    "history=model.fit(x_train,y_train,validation_data=(x_test,y_test), epochs=20, verbose=1) #Keras ile bir modeli eğitmek için kullanılır.\n",
    "\n",
    "# model.fit: Modelin eğitim sürecini başlatır.\n",
    "# x_train: Eğitim verileri. Model, bu verilerle öğrenme yapar.\n",
    "# y_train: Eğitim etiketleri. Model, bu etiketlere göre tahminlerde bulunmayı öğrenir.\n",
    "# validation_data=(x_test, y_test): Modelin doğruluğunu değerlendirmek için test verileri ve etiketleri. Her epoch sonunda modelin performansı bu verilerle kontrol edilir.\n",
    "# epochs=20: Eğitim sürecinin kaç kez tekrarlanacağını belirtir. Bu durumda model, 20 kez tüm eğitim verileri üzerinde eğitim yapacaktır.\n",
    "# verbose=1: Eğitim süreci sırasında bilgi düzeyini belirler. 1 seçeneği, eğitim sürecinin ilerlemesini ve her epoch sonunda doğruluk ve kayıp bilgilerini gösterecektir.\n",
    "\n",
    "#Bu kod satırı, modelin eğitimini başlatır ve eğitim sürecinin sonuçlarını history değişkeninde saklar. history değişkeni, eğitim ve doğrulama kaybı ile doğruluğu içeren bilgileri tutar ve daha sonra bu verileri analiz etmek için kullanılabilir.\n"
   ]
  },
  {
   "cell_type": "markdown",
   "id": "1b07d669-c67c-4569-b9fa-3c4379ff87d2",
   "metadata": {},
   "source": [
    "## Sonuç"
   ]
  },
  {
   "cell_type": "raw",
   "id": "09c12f21-4bd8-4b10-af53-c508909dddb1",
   "metadata": {},
   "source": [
    "Bu proje kapsamında gerçekleştirilen eğitim sürecinin ardından, model 20 epoch'ta şu sonuçları elde etmiştir: eğitim kaybı (loss) 0.0053 ve eğitim doğruluğu (accuracy) %99.88 olarak kaydedilmiştir. Bu, modelin eğitim verileri üzerinde son derece etkili bir şekilde öğrenme gerçekleştirdiğini göstermektedir.\n",
    "\n",
    "Doğrulama aşamasında ise, doğrulama kaybı (val_loss) 0.6945 ve doğrulama doğruluğu (val_accuracy) %91.37 olarak ölçülmüştür. Bu sonuçlar, modelin yeni verilere karşı da başarılı olduğunu, ancak bazı iyileştirme alanlarının bulunduğunu göstermektedir.\n",
    "\n",
    "Genel olarak, eğitim ve doğrulama sonuçları, geliştirilen modelin sıtma verileri üzerine güçlü bir performans sergilediğini ve klinik uygulamalarda kullanılmak üzere umut verici bir aday olduğunu ortaya koymaktadır. Gelecekte, modelin daha fazla veriyle eğitilmesi ve hiperparametre ayarlarının optimize edilmesi, doğrulama doğruluğunu artırma potansiyeli taşımaktadır."
   ]
  }
 ],
 "metadata": {
  "kernelspec": {
   "display_name": "Python 3 (ipykernel)",
   "language": "python",
   "name": "python3"
  },
  "language_info": {
   "codemirror_mode": {
    "name": "ipython",
    "version": 3
   },
   "file_extension": ".py",
   "mimetype": "text/x-python",
   "name": "python",
   "nbconvert_exporter": "python",
   "pygments_lexer": "ipython3",
   "version": "3.12.4"
  }
 },
 "nbformat": 4,
 "nbformat_minor": 5
}
